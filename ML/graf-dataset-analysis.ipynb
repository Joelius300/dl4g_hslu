{
 "cells": [
  {
   "cell_type": "code",
   "execution_count": null,
   "id": "initial_id",
   "metadata": {},
   "outputs": [],
   "source": [
    "import dask.dataframe as dd"
   ]
  },
  {
   "cell_type": "code",
   "execution_count": null,
   "id": "8192524833f8ab0e",
   "metadata": {},
   "outputs": [],
   "source": [
    "ddf = dd.read_parquet(\"./data/graf-dataset/\")\n",
    "ddf"
   ]
  },
  {
   "cell_type": "code",
   "execution_count": null,
   "id": "e58bc89293f55884",
   "metadata": {},
   "outputs": [],
   "source": [
    "trump_counts = ddf.trump.value_counts().compute()\n",
    "trump_counts"
   ]
  },
  {
   "cell_type": "code",
   "execution_count": null,
   "id": "6fff213a22cfb564",
   "metadata": {},
   "outputs": [],
   "source": [
    "trump_counts / trump_counts.sum()"
   ]
  },
  {
   "cell_type": "markdown",
   "id": "c2512128adbe6f42",
   "metadata": {},
   "source": [
    "As expected, push is by far the most common. I really can't wrap my head around why the different suits have different frequencies. There's no distinction between colors, just trumps vs not trump so all the suits should be the same number right?!. This unfortunately makes it likely that there is an error somewhere in the dataset generation."
   ]
  },
  {
   "cell_type": "code",
   "execution_count": null,
   "id": "4d21e2b5c8f23241",
   "metadata": {},
   "outputs": [],
   "source": [
    "ddf.fh.value_counts().compute()"
   ]
  },
  {
   "cell_type": "markdown",
   "id": "e011a87dc1cbedb4",
   "metadata": {},
   "source": [
    "At least the number of forehand and rearhand is the same."
   ]
  },
  {
   "cell_type": "code",
   "execution_count": null,
   "id": "f1df855c440d828c",
   "metadata": {},
   "outputs": [],
   "source": [
    "ddf"
   ]
  },
  {
   "cell_type": "code",
   "execution_count": null,
   "id": "c127f6109846cda0",
   "metadata": {},
   "outputs": [],
   "source": [
    "ddf[[f\"c{i}\" for i in range(1, 10)]]"
   ]
  },
  {
   "cell_type": "code",
   "execution_count": null,
   "id": "4ddcb367057738e3",
   "metadata": {},
   "outputs": [],
   "source": [
    "ddf[\"c1\"].isna().any().compute()"
   ]
  },
  {
   "cell_type": "code",
   "execution_count": null,
   "id": "b675b4ee224c9798",
   "metadata": {},
   "outputs": [],
   "source": [
    "for i in range(1, 10):\n",
    "    print(ddf[f\"c{i}\"].isna().any().compute())"
   ]
  },
  {
   "cell_type": "code",
   "execution_count": null,
   "id": "42bd9f1d89a61f65",
   "metadata": {},
   "outputs": [],
   "source": [
    "total_value_counts = []\n",
    "for i in range(1, 10):\n",
    "    total_value_counts.append(ddf[f\"c{i}\"].value_counts().compute())"
   ]
  },
  {
   "cell_type": "code",
   "execution_count": null,
   "id": "b81702a9e63112be",
   "metadata": {},
   "outputs": [],
   "source": [
    "import pandas as pd"
   ]
  },
  {
   "cell_type": "code",
   "execution_count": null,
   "id": "68acf8d050b5bce",
   "metadata": {},
   "outputs": [],
   "source": [
    "total_value_counts"
   ]
  },
  {
   "cell_type": "code",
   "execution_count": null,
   "id": "4637a550017e4589",
   "metadata": {},
   "outputs": [],
   "source": [
    "combined = pd.concat(total_value_counts)\n",
    "combined = combined.groupby(combined.index).sum()\n",
    "combined"
   ]
  },
  {
   "cell_type": "code",
   "execution_count": null,
   "id": "c52c3e09e808cfcd",
   "metadata": {},
   "outputs": [],
   "source": [
    "assert (combined == 47071640).all(), \"Not all cards appear the same number of times.\""
   ]
  },
  {
   "cell_type": "code",
   "execution_count": null,
   "id": "f7dd13b109cc4a3a",
   "metadata": {},
   "outputs": [],
   "source": [
    "total_value_counts = []\n",
    "for i in range(4):\n",
    "    total_value_counts.append(ddf[f'ts{i}'].value_counts().compute())"
   ]
  },
  {
   "cell_type": "code",
   "execution_count": null,
   "id": "e9c6fccdb6c985f5",
   "metadata": {},
   "outputs": [],
   "source": [
    "suit0 = total_value_counts[0]\n",
    "for values in total_value_counts:\n",
    "    print((values == suit0).all())"
   ]
  },
  {
   "cell_type": "markdown",
   "id": "2a462e30c61ca14c",
   "metadata": {},
   "source": [
    "The scores are also all the same with the same frequency, so why the hell are the selected trumps not the same frequency?"
   ]
  },
  {
   "cell_type": "markdown",
   "id": "7f128aa5bc86aec8",
   "metadata": {},
   "source": [
    "Nevermiiind, I figured it out. When there are two trumps with the same score, the first one is picked by argmax so the frequency will be descending."
   ]
  },
  {
   "cell_type": "markdown",
   "id": "5090e2bbf8042cfd",
   "metadata": {},
   "source": [
    "So, the dataset looks good :) Now we could use this to train a network. Here we can take almost 17 Million examples per trump if we downsample (over 115 mil in total), which certainly is enough. Then for fine-tuning we could take only the very best players and again a balanced random sample of their games.\n",
    "\n",
    "But play by NN is more important now."
   ]
  }
 ],
 "metadata": {
  "kernelspec": {
   "display_name": "Python 3",
   "language": "python",
   "name": "python3"
  },
  "language_info": {
   "codemirror_mode": {
    "name": "ipython",
    "version": 2
   },
   "file_extension": ".py",
   "mimetype": "text/x-python",
   "name": "python",
   "nbconvert_exporter": "python",
   "pygments_lexer": "ipython2",
   "version": "2.7.6"
  }
 },
 "nbformat": 4,
 "nbformat_minor": 5
}
