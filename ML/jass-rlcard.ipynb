{
 "cells": [
  {
   "cell_type": "code",
   "execution_count": null,
   "id": "initial_id",
   "metadata": {},
   "outputs": [],
   "source": [
    "import numpy as np\n",
    "from collections import OrderedDict\n",
    "\n",
    "from rlcard.envs import Env\n"
   ]
  },
  {
   "cell_type": "code",
   "execution_count": null,
   "id": "c6711004df0f5b0c",
   "metadata": {},
   "outputs": [],
   "source": [
    "class JassEnv(Env):\n",
    "    def __init__(self, config):\n",
    "        self.name = 'jass'\n",
    "        self.game = Game()\n",
    "        super().__init__(config=config)\n",
    "        self.bridgePayoffDelegate = DefaultBridgePayoffDelegate()\n",
    "        self.bridgeStateExtractor = DefaultBridgeStateExtractor()\n",
    "        state_shape_size = self.bridgeStateExtractor.get_state_shape_size()\n",
    "        self.state_shape = [[1, state_shape_size] for _ in range(self.num_players)]\n",
    "        self.action_shape = [None for _ in range(self.num_players)]\n",
    "\n",
    "    def get_payoffs(self):\n",
    "        ''' Get the payoffs of players.\n",
    "\n",
    "        Returns:\n",
    "            (list): A list of payoffs for each player.\n",
    "        '''\n",
    "        return self.bridgePayoffDelegate.get_payoffs(game=self.game)\n",
    "\n",
    "    def get_perfect_information(self):\n",
    "        ''' Get the perfect information of the current state\n",
    "\n",
    "        Returns:\n",
    "            (dict): A dictionary of all the perfect information of the current state\n",
    "        '''\n",
    "        return self.game.round.get_perfect_information()\n",
    "\n",
    "    def _extract_state(self, state):  # wch: don't use state 211126\n",
    "        ''' Extract useful information from state for RL.\n",
    "\n",
    "        Args:\n",
    "            state (dict): The raw state\n",
    "\n",
    "        Returns:\n",
    "            (numpy.array): The extracted state\n",
    "        '''\n",
    "        return self.bridgeStateExtractor.extract_state(game=self.game)\n",
    "\n",
    "    def _decode_action(self, action_id):\n",
    "        ''' Decode Action id to the action in the game.\n",
    "\n",
    "        Args:\n",
    "            action_id (int): The id of the action\n",
    "\n",
    "        Returns:\n",
    "            (ActionEvent): The action that will be passed to the game engine.\n",
    "        '''\n",
    "        return ActionEvent.from_action_id(action_id=action_id)\n",
    "\n",
    "    def _get_legal_actions(self):\n",
    "        ''' Get all legal actions for current state.\n",
    "\n",
    "        Returns:\n",
    "            (list): A list of legal actions' id.\n",
    "        '''\n",
    "        raise NotImplementedError  # wch: not needed"
   ]
  }
 ],
 "metadata": {
  "kernelspec": {
   "display_name": "DL4G",
   "language": "python",
   "name": "dl4g"
  },
  "language_info": {
   "codemirror_mode": {
    "name": "ipython",
    "version": 2
   },
   "file_extension": ".py",
   "mimetype": "text/x-python",
   "name": "python",
   "nbconvert_exporter": "python",
   "pygments_lexer": "ipython2",
   "version": "2.7.6"
  }
 },
 "nbformat": 4,
 "nbformat_minor": 5
}
