{
 "cells": [
  {
   "cell_type": "code",
   "execution_count": null,
   "id": "initial_id",
   "metadata": {},
   "outputs": [],
   "source": [
    "import gymnasium as gym"
   ]
  },
  {
   "cell_type": "markdown",
   "id": "b0b854776672b633",
   "metadata": {},
   "source": [
    "- https://gymnasium.farama.org/content/basic_usage/\n",
    "- https://github.com/zmcx16/OpenAI-Gym-Hearts/blob/master/src/Hearts/Hearts.py\n",
    "- https://gymnasium.farama.org/environments/toy_text/blackjack/#references\n",
    "- https://www.youtube.com/watch?v=YLa_KkehvGw\n",
    "- https://github.com/bernhard-pfann/uno-card-game-rl/tree/main\n",
    "- https://towardsdatascience.com/tackling-uno-card-game-with-reinforcement-learning-fad2fc19355c"
   ]
  },
  {
   "cell_type": "markdown",
   "id": "de5d4d8014df8d6e",
   "metadata": {},
   "source": [
    "Okay so if I understand correctly, the model can be pretty simple. Taking some features like trump, player, cards in trick, played cards, and hand and returning a softmax over the cards to play the next one.\n",
    "\n",
    "The big question is how to train it. A gym wrapper around the existing framework might help but maybe isn't even necessary because there is already a lot implemented with GameSim etc.\n",
    "\n",
    "In a first step, this can just be trained with PPO or something like that, which should be possible without any MCTS just by self play. Biggest issue here will be to determine the value of a given time step when the game hasn't ended yet.\n",
    "\n",
    "For an AlphaZero-like implementation, you'd apparently play games using MCTS and learn from that a value function? But it's still not supervised learning?\n",
    "\n",
    "The UNO example does a bare re-implementation of Q learning with Belman and epsilon-greedy moves. I think using a PyTorch implementation of such an algorithm would be better, but you have to do some understanding first."
   ]
  },
  {
   "cell_type": "code",
   "execution_count": null,
   "id": "45bbfd611bd59da0",
   "metadata": {},
   "outputs": [],
   "source": []
  }
 ],
 "metadata": {
  "kernelspec": {
   "display_name": "Python 3",
   "language": "python",
   "name": "python3"
  },
  "language_info": {
   "codemirror_mode": {
    "name": "ipython",
    "version": 2
   },
   "file_extension": ".py",
   "mimetype": "text/x-python",
   "name": "python",
   "nbconvert_exporter": "python",
   "pygments_lexer": "ipython2",
   "version": "2.7.6"
  }
 },
 "nbformat": 4,
 "nbformat_minor": 5
}
