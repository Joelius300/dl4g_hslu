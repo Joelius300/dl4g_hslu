{
 "cells": [
  {
   "cell_type": "code",
   "execution_count": null,
   "id": "initial_id",
   "metadata": {},
   "outputs": [],
   "source": [
    "from jass_bot.heuristics.graf import get_graf_scores, push_threshold\n",
    "from itertools import combinations\n",
    "import math\n",
    "from tqdm.notebook import tqdm\n",
    "import numpy as np\n",
    "import pandas as pd\n",
    "import pyarrow.parquet as pq\n",
    "import pyarrow as pa"
   ]
  },
  {
   "cell_type": "code",
   "execution_count": null,
   "id": "89d03ac0404ba6",
   "metadata": {},
   "outputs": [],
   "source": [
    "ALL_CARDS = list(range(36))\n",
    "n_hand = 9"
   ]
  },
  {
   "cell_type": "code",
   "execution_count": null,
   "id": "edf9b4ee16ad5386",
   "metadata": {},
   "outputs": [],
   "source": [
    "n_combinations = math.comb(len(ALL_CARDS), n_hand)\n",
    "n_combinations"
   ]
  },
  {
   "cell_type": "code",
   "execution_count": null,
   "id": "26e0a0b1021359df",
   "metadata": {},
   "outputs": [],
   "source": [
    "total_rows = n_combinations * 2\n",
    "total_cols = n_hand + 1 + 1 + 6  # hand, forehand, selected, trump_scores\n",
    "expected_final_shape = (total_rows, total_cols)\n",
    "expected_final_shape"
   ]
  },
  {
   "cell_type": "code",
   "execution_count": null,
   "id": "5171a6b1f0b5ba57",
   "metadata": {},
   "outputs": [],
   "source": [
    "def get_sample(comb, forehand, selected_trump, trump_scores):\n",
    "    return [*comb, forehand, selected_trump, *trump_scores]"
   ]
  },
  {
   "cell_type": "code",
   "execution_count": null,
   "id": "25b122466a5abc34",
   "metadata": {},
   "outputs": [],
   "source": [
    "batch_size = 1024 * 128  # one row group will contain this times 2\n",
    "parquet_file_path = \"./data/graf-data.parquet\"\n",
    "\n",
    "schema = pa.schema(\n",
    "    [\n",
    "        (\"c1\", pa.int8()),\n",
    "        (\"c2\", pa.int8()),\n",
    "        (\"c3\", pa.int8()),\n",
    "        (\"c4\", pa.int8()),\n",
    "        (\"c5\", pa.int8()),\n",
    "        (\"c6\", pa.int8()),\n",
    "        (\"c7\", pa.int8()),\n",
    "        (\"c8\", pa.int8()),\n",
    "        (\"c9\", pa.int8()),\n",
    "        (\"fh\", pa.int8()),\n",
    "        (\"trump\", pa.int8()),\n",
    "        (\"ts0\", pa.int16()),\n",
    "        (\"ts1\", pa.int16()),\n",
    "        (\"ts2\", pa.int16()),\n",
    "        (\"ts3\", pa.int16()),\n",
    "        (\"ts4\", pa.int16()),\n",
    "        (\"ts5\", pa.int16()),\n",
    "    ]\n",
    ")\n"
   ]
  },
  {
   "cell_type": "code",
   "execution_count": null,
   "id": "8cc56c6fae7f7cc8",
   "metadata": {},
   "outputs": [],
   "source": [
    "assert False, \"you sure you wanna override it? takes 3 hours\"\n",
    "writer = pq.ParquetWriter(parquet_file_path, schema)\n",
    "\n",
    "samples = []\n",
    "\n",
    "for i, comb in tqdm(enumerate(combinations(ALL_CARDS, n_hand)), total=n_combinations):\n",
    "    trump_scores = []\n",
    "    for trump in range(6):  # 4 suits, obeabe, uneufe\n",
    "        scores = get_graf_scores(trump)\n",
    "        score = np.sum(scores[np.array(comb)])\n",
    "        trump_scores.append(score)\n",
    "    selected_trump = np.argmax(trump_scores)\n",
    "    would_push = trump_scores[selected_trump] < push_threshold\n",
    "    samples.append(get_sample(comb, 0, selected_trump, trump_scores))\n",
    "    # push is not a trump itself but has the value 6 (7th value)\n",
    "    # if it's forehand, you can push, otherwise just pick the best you can\n",
    "    samples.append(get_sample(comb, 1, 6 if would_push else selected_trump, trump_scores))\n",
    "    \n",
    "    if (i+1) % batch_size == 0:\n",
    "        writer.write_batch(pa.record_batch(pd.DataFrame(samples, columns=schema.names), schema=schema))\n",
    "        del samples\n",
    "        samples = []\n",
    "\n",
    "# write the remaining samples to the file\n",
    "if samples:\n",
    "    writer.write_batch(pa.record_batch(pd.DataFrame(samples, columns=schema.names), schema=schema))\n",
    "    del samples\n",
    "    samples = []\n",
    "\n",
    "writer.close()"
   ]
  },
  {
   "cell_type": "code",
   "execution_count": null,
   "id": "84c924b2de21c224",
   "metadata": {},
   "outputs": [],
   "source": [
    "import dask.dataframe as dd"
   ]
  },
  {
   "cell_type": "code",
   "execution_count": null,
   "id": "a0e4701dcc54d695",
   "metadata": {},
   "outputs": [],
   "source": [
    "ddf = dd.read_parquet(parquet_file_path)\n",
    "ddf"
   ]
  },
  {
   "cell_type": "code",
   "execution_count": null,
   "id": "b0863986382d7c5b",
   "metadata": {},
   "outputs": [],
   "source": [
    "trump_counts = ddf.trump.value_counts().compute()\n",
    "trump_counts"
   ]
  },
  {
   "cell_type": "code",
   "execution_count": null,
   "id": "804b36068d923c1b",
   "metadata": {},
   "outputs": [],
   "source": [
    "assert trump_counts.sum() == total_rows, f\"Has {trump_counts.sum()} rows, should be {total_rows} (diff = {total_rows - trump_counts.sum()})\""
   ]
  },
  {
   "cell_type": "markdown",
   "id": "c69465fe142bf20e",
   "metadata": {},
   "source": [
    "Forgot to write the remaining samples down after the loop, it would be right otherwise I'm sure."
   ]
  },
  {
   "cell_type": "code",
   "execution_count": null,
   "id": "902bf79814ac9713",
   "metadata": {},
   "outputs": [],
   "source": []
  }
 ],
 "metadata": {
  "kernelspec": {
   "display_name": "DL4G",
   "language": "python",
   "name": "dl4g"
  },
  "language_info": {
   "codemirror_mode": {
    "name": "ipython",
    "version": 2
   },
   "file_extension": ".py",
   "mimetype": "text/x-python",
   "name": "python",
   "nbconvert_exporter": "python",
   "pygments_lexer": "ipython2",
   "version": "2.7.6"
  }
 },
 "nbformat": 4,
 "nbformat_minor": 5
}
