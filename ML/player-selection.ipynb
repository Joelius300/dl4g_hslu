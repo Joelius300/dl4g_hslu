{
 "cells": [
  {
   "cell_type": "code",
   "execution_count": null,
   "id": "initial_id",
   "metadata": {},
   "outputs": [],
   "source": [
    "import pandas as pd\n",
    "import numpy as np"
   ]
  },
  {
   "cell_type": "code",
   "execution_count": null,
   "id": "d9b01a58c5ff1894",
   "metadata": {},
   "outputs": [],
   "source": [
    "player_stats = pd.read_json(\"./data/player_all_stat.json\")\n",
    "player_stats"
   ]
  },
  {
   "cell_type": "code",
   "execution_count": null,
   "id": "b605a545d3ddaa78",
   "metadata": {},
   "outputs": [],
   "source": [
    "player_stats.describe(include='all').T"
   ]
  },
  {
   "cell_type": "code",
   "execution_count": null,
   "id": "57bbc5ee29c0cbe",
   "metadata": {},
   "outputs": [],
   "source": [
    "player_stats.dtypes"
   ]
  },
  {
   "cell_type": "code",
   "execution_count": null,
   "id": "3f6d2923865a90df",
   "metadata": {},
   "outputs": [],
   "source": [
    "player_stats.nr.duplicated().any()"
   ]
  },
  {
   "cell_type": "code",
   "execution_count": null,
   "id": "d2ce6ad2e25d20ca",
   "metadata": {},
   "outputs": [],
   "source": [
    "player_stats.sort_values('mean', ascending=False)"
   ]
  },
  {
   "cell_type": "code",
   "execution_count": null,
   "id": "84cc07f9a54c6c96",
   "metadata": {},
   "outputs": [],
   "source": [
    "promising_players = player_stats.query(\"nr >= 5 & mean >= 75 & std <= 50\")\n",
    "promising_players"
   ]
  },
  {
   "cell_type": "code",
   "execution_count": null,
   "id": "e2f1d9c4c98a97b9",
   "metadata": {},
   "outputs": [],
   "source": [
    "promising_players.sort_values('mean', ascending=False)"
   ]
  },
  {
   "cell_type": "code",
   "execution_count": null,
   "id": "d378adade589f523",
   "metadata": {},
   "outputs": [],
   "source": [
    "anonymous_player = promising_players.loc[0]\n",
    "anonymous_player"
   ]
  },
  {
   "cell_type": "code",
   "execution_count": null,
   "id": "2c3b0baa00a65cbd",
   "metadata": {},
   "outputs": [],
   "source": [
    "promising_players = promising_players.drop([0], axis=0)\n",
    "promising_players"
   ]
  },
  {
   "cell_type": "code",
   "execution_count": null,
   "id": "f84d9aa4da4ba979",
   "metadata": {},
   "outputs": [],
   "source": [
    "from sklearn.preprocessing import MinMaxScaler\n",
    "\n",
    "scaler = MinMaxScaler()\n",
    "scaled = scaler.fit_transform(promising_players)\n",
    "scaled = pd.DataFrame(scaled, columns=promising_players.columns, index=promising_players.index)\n",
    "scaled"
   ]
  },
  {
   "cell_type": "code",
   "execution_count": null,
   "id": "9dfce9c8c8c00a4b",
   "metadata": {},
   "outputs": [],
   "source": [
    "scaled['mean'].isna().any()"
   ]
  },
  {
   "cell_type": "code",
   "execution_count": null,
   "id": "a9459cf400971af0",
   "metadata": {},
   "outputs": [],
   "source": [
    "np.sqrt(scaled['nr']).isna().any()"
   ]
  },
  {
   "cell_type": "code",
   "execution_count": null,
   "id": "5da170e3a30a9467",
   "metadata": {},
   "outputs": [],
   "source": [
    "(1 / (scaled['std'] + 1)).isna().any()"
   ]
  },
  {
   "cell_type": "code",
   "execution_count": null,
   "id": "e8827aa97c8853e2",
   "metadata": {},
   "outputs": [],
   "source": [
    "scores = (scaled['mean'] * (1/(scaled['std']+1)) * np.sqrt(scaled['nr']))\n",
    "scores.isna().any()"
   ]
  },
  {
   "cell_type": "code",
   "execution_count": null,
   "id": "69a794a996332f2f",
   "metadata": {},
   "outputs": [],
   "source": [
    "scores = scores / scores.max()"
   ]
  },
  {
   "cell_type": "code",
   "execution_count": null,
   "id": "e847620749ad2cdf",
   "metadata": {},
   "outputs": [],
   "source": [
    "scores"
   ]
  },
  {
   "cell_type": "code",
   "execution_count": null,
   "id": "252cb97e25b85c0a",
   "metadata": {},
   "outputs": [],
   "source": [
    "scores[scores.isna()]  # no nan"
   ]
  },
  {
   "cell_type": "code",
   "execution_count": null,
   "id": "a5ee5963518ba6e0",
   "metadata": {},
   "outputs": [],
   "source": [
    "scores.shape"
   ]
  },
  {
   "cell_type": "code",
   "execution_count": null,
   "id": "a1cc8667200dd461",
   "metadata": {},
   "outputs": [],
   "source": [
    "# higher score = better\n",
    "# lower std = better\n",
    "# more plays = better\n",
    "\n",
    "promising_players['score'] = scores\n",
    "promising_players"
   ]
  },
  {
   "cell_type": "code",
   "execution_count": null,
   "id": "ab566352ebd6cad8",
   "metadata": {},
   "outputs": [],
   "source": [
    "promising_players['score'].isna().any()"
   ]
  },
  {
   "cell_type": "code",
   "execution_count": null,
   "id": "8bc0a60e853bf978",
   "metadata": {},
   "outputs": [],
   "source": [
    "anonymous_player_df = pd.DataFrame(anonymous_player).T\n",
    "anonymous_player_df['id'] = anonymous_player_df['id'].astype(int)\n",
    "anonymous_player_df['nr'] = anonymous_player_df['nr'].astype(int)\n",
    "anonymous_player_df['score'] = 1\n",
    "anonymous_player_df"
   ]
  },
  {
   "cell_type": "code",
   "execution_count": null,
   "id": "7a3f7d9c33d5a6b7",
   "metadata": {},
   "outputs": [],
   "source": [
    "promising_players = pd.concat([anonymous_player_df, promising_players])\n",
    "promising_players"
   ]
  },
  {
   "cell_type": "code",
   "execution_count": null,
   "id": "1c6822b7556b35b7",
   "metadata": {},
   "outputs": [],
   "source": [
    "promising_players = promising_players.sort_values('score', ascending=False)\n",
    "promising_players"
   ]
  },
  {
   "cell_type": "code",
   "execution_count": null,
   "id": "30aa853578bef997",
   "metadata": {},
   "outputs": [],
   "source": [
    "promising_players.to_csv(\"./data/promising_players.csv\")"
   ]
  }
 ],
 "metadata": {
  "kernelspec": {
   "display_name": "DL4G",
   "language": "python",
   "name": "dl4g"
  },
  "language_info": {
   "codemirror_mode": {
    "name": "ipython",
    "version": 2
   },
   "file_extension": ".py",
   "mimetype": "text/x-python",
   "name": "python",
   "nbconvert_exporter": "python",
   "pygments_lexer": "ipython2",
   "version": "2.7.6"
  }
 },
 "nbformat": 4,
 "nbformat_minor": 5
}
