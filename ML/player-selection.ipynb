{
 "cells": [
  {
   "cell_type": "code",
   "execution_count": null,
   "id": "initial_id",
   "metadata": {},
   "outputs": [],
   "source": [
    "import pandas as pd\n",
    "import numpy as np"
   ]
  },
  {
   "cell_type": "code",
   "execution_count": null,
   "id": "d9b01a58c5ff1894",
   "metadata": {},
   "outputs": [],
   "source": [
    "player_stats = pd.read_json(\"./data/player_all_stat.json\")\n",
    "player_stats"
   ]
  },
  {
   "cell_type": "code",
   "execution_count": null,
   "id": "b605a545d3ddaa78",
   "metadata": {},
   "outputs": [],
   "source": [
    "player_stats.describe(include='all').T"
   ]
  },
  {
   "cell_type": "code",
   "execution_count": null,
   "id": "57bbc5ee29c0cbe",
   "metadata": {},
   "outputs": [],
   "source": [
    "player_stats.dtypes"
   ]
  },
  {
   "cell_type": "code",
   "execution_count": null,
   "id": "3f6d2923865a90df",
   "metadata": {},
   "outputs": [],
   "source": [
    "player_stats.nr.duplicated().any()"
   ]
  },
  {
   "cell_type": "code",
   "execution_count": null,
   "id": "d2ce6ad2e25d20ca",
   "metadata": {},
   "outputs": [],
   "source": [
    "player_stats.sort_values('mean', ascending=False)"
   ]
  },
  {
   "cell_type": "code",
   "execution_count": null,
   "id": "84cc07f9a54c6c96",
   "metadata": {},
   "outputs": [],
   "source": [
    "promising_players = player_stats.query(\"nr >= 5 & mean >= 75 & std <= 50\")\n",
    "promising_players"
   ]
  },
  {
   "cell_type": "code",
   "execution_count": null,
   "id": "e2f1d9c4c98a97b9",
   "metadata": {},
   "outputs": [],
   "source": [
    "promising_players.sort_values('mean', ascending=False)"
   ]
  },
  {
   "cell_type": "code",
   "execution_count": null,
   "id": "d378adade589f523",
   "metadata": {},
   "outputs": [],
   "source": [
    "anonymous_player = promising_players.loc[0]\n",
    "anonymous_player"
   ]
  },
  {
   "cell_type": "code",
   "execution_count": null,
   "id": "2c3b0baa00a65cbd",
   "metadata": {},
   "outputs": [],
   "source": [
    "promising_players = promising_players.drop([0], axis=0)\n",
    "promising_players"
   ]
  },
  {
   "cell_type": "code",
   "execution_count": null,
   "id": "f84d9aa4da4ba979",
   "metadata": {},
   "outputs": [],
   "source": [
    "from sklearn.preprocessing import MinMaxScaler\n",
    "\n",
    "scaler = MinMaxScaler()\n",
    "scaled = scaler.fit_transform(promising_players)\n",
    "scaled = pd.DataFrame(scaled, columns=promising_players.columns, index=promising_players.index)\n",
    "scaled"
   ]
  },
  {
   "cell_type": "code",
   "execution_count": null,
   "id": "9dfce9c8c8c00a4b",
   "metadata": {},
   "outputs": [],
   "source": [
    "scaled['mean'].isna().any()"
   ]
  },
  {
   "cell_type": "code",
   "execution_count": null,
   "id": "a9459cf400971af0",
   "metadata": {},
   "outputs": [],
   "source": [
    "np.sqrt(scaled['nr']).isna().any()"
   ]
  },
  {
   "cell_type": "code",
   "execution_count": null,
   "id": "5da170e3a30a9467",
   "metadata": {},
   "outputs": [],
   "source": [
    "(1 / (scaled['std'] + 1)).isna().any()"
   ]
  },
  {
   "cell_type": "code",
   "execution_count": null,
   "id": "e8827aa97c8853e2",
   "metadata": {},
   "outputs": [],
   "source": [
    "scores = (scaled['mean'] * (1/(scaled['std']+1)) * np.sqrt(scaled['nr']))\n",
    "scores.isna().any()"
   ]
  },
  {
   "cell_type": "code",
   "execution_count": null,
   "id": "69a794a996332f2f",
   "metadata": {},
   "outputs": [],
   "source": [
    "scores = scores / scores.max()"
   ]
  },
  {
   "cell_type": "code",
   "execution_count": null,
   "id": "e847620749ad2cdf",
   "metadata": {},
   "outputs": [],
   "source": [
    "scores"
   ]
  },
  {
   "cell_type": "code",
   "execution_count": null,
   "id": "252cb97e25b85c0a",
   "metadata": {},
   "outputs": [],
   "source": [
    "scores[scores.isna()]  # no nan"
   ]
  },
  {
   "cell_type": "code",
   "execution_count": null,
   "id": "a5ee5963518ba6e0",
   "metadata": {},
   "outputs": [],
   "source": [
    "scores.shape"
   ]
  },
  {
   "cell_type": "code",
   "execution_count": null,
   "id": "a1cc8667200dd461",
   "metadata": {},
   "outputs": [],
   "source": [
    "# higher score = better\n",
    "# lower std = better\n",
    "# more plays = better\n",
    "\n",
    "promising_players['score'] = scores\n",
    "promising_players"
   ]
  },
  {
   "cell_type": "code",
   "execution_count": null,
   "id": "ab566352ebd6cad8",
   "metadata": {},
   "outputs": [],
   "source": [
    "promising_players['score'].isna().any()"
   ]
  },
  {
   "cell_type": "code",
   "execution_count": null,
   "id": "8bc0a60e853bf978",
   "metadata": {},
   "outputs": [],
   "source": [
    "anonymous_player_df = pd.DataFrame(anonymous_player).T\n",
    "anonymous_player_df['id'] = anonymous_player_df['id'].astype(int)\n",
    "anonymous_player_df['nr'] = anonymous_player_df['nr'].astype(int)\n",
    "anonymous_player_df['score'] = 1\n",
    "anonymous_player_df"
   ]
  },
  {
   "cell_type": "code",
   "execution_count": null,
   "id": "7a3f7d9c33d5a6b7",
   "metadata": {},
   "outputs": [],
   "source": [
    "promising_players = pd.concat([anonymous_player_df, promising_players])\n",
    "promising_players"
   ]
  },
  {
   "cell_type": "code",
   "execution_count": null,
   "id": "1c6822b7556b35b7",
   "metadata": {},
   "outputs": [],
   "source": [
    "promising_players = promising_players.sort_values('score', ascending=False)\n",
    "promising_players"
   ]
  },
  {
   "cell_type": "code",
   "execution_count": null,
   "id": "30aa853578bef997",
   "metadata": {},
   "outputs": [],
   "source": [
    "promising_players.to_csv(\"./data/promising_players.csv\")"
   ]
  },
  {
   "cell_type": "markdown",
   "id": "ce1682e4b4b27a4d",
   "metadata": {},
   "source": [
    "Now instead of just using promising players, use the n best"
   ]
  },
  {
   "cell_type": "code",
   "execution_count": null,
   "id": "b05d24bc5e5be578",
   "metadata": {},
   "outputs": [],
   "source": [
    "from jass.game.const import card_strings\n",
    "features = np.append(card_strings, ['FH'])\n",
    "cols = np.append(features, ['user', 'trump'])\n",
    "\n",
    "trumps = pd.read_csv(\"./data/2018_10_18_trump.csv\", header=None, names=cols)\n",
    "trumps['FH'] = 1 - trumps['FH']  # for some reason, this dataset has 0 = push is an option, 1 = push is not an option, whereas push should only be an option if FH=1\n",
    "trumps"
   ]
  },
  {
   "cell_type": "code",
   "execution_count": null,
   "id": "5f86b0234947c609",
   "metadata": {},
   "outputs": [],
   "source": [
    "player_stats.sort_values('mean', ascending=False).query(\"nr > 100\")"
   ]
  },
  {
   "cell_type": "code",
   "execution_count": null,
   "id": "ae896cbb24c95697",
   "metadata": {},
   "outputs": [],
   "source": [
    "rounded_stats = player_stats.round(0)\n",
    "rounded_stats"
   ]
  },
  {
   "cell_type": "code",
   "execution_count": null,
   "id": "a89d0a38cf2335e7",
   "metadata": {},
   "outputs": [],
   "source": [
    "n_games_threshold = 1000"
   ]
  },
  {
   "cell_type": "code",
   "execution_count": null,
   "id": "6047fa1708ebaed5",
   "metadata": {},
   "outputs": [],
   "source": [
    "top_threshold = rounded_stats.query(f'nr >= {n_games_threshold}').sort_values(['mean', 'std', 'nr'], ascending=[False, True, False])\n",
    "top_threshold"
   ]
  },
  {
   "cell_type": "code",
   "execution_count": null,
   "id": "73aef8b9e2e14fc5",
   "metadata": {},
   "outputs": [],
   "source": [
    "top_threshold.describe(include='all').T"
   ]
  },
  {
   "cell_type": "markdown",
   "id": "1cdece5fba5de7b2",
   "metadata": {},
   "source": [
    "75 percentile of mean score for players with over 1000 games is 79 (rounded). For the number of games, the 75 percentile is 5000."
   ]
  },
  {
   "cell_type": "code",
   "execution_count": null,
   "id": "799e2d2215cb8e72",
   "metadata": {},
   "outputs": [],
   "source": [
    "top_n = 250"
   ]
  },
  {
   "cell_type": "markdown",
   "id": "c3ab56e9fcad241b",
   "metadata": {},
   "source": [
    "For top 500, the worst selected player has a mean score of 79 with 4400 games played. Top 1000 drops down to 77. And top 100 gives 80.\n",
    "\n",
    "According to this sorting of mean DESC, std ASC, nr DESC, the anonymous players are position 715. For fine-tuning, I would only want to choose games from players that are considerable better than average, and I'm making the assumption that the average player might play on anonymous instead of creating their own account.\n",
    "\n",
    "In the end I settled for 250, which makes the worst player have a mean score of 80 over 2700 games, and results in ~900 samples for each category (trump and fh) for fine-tuning."
   ]
  },
  {
   "cell_type": "code",
   "execution_count": null,
   "id": "4f58861e62c89888",
   "metadata": {},
   "outputs": [],
   "source": [
    "best = top_threshold.head(top_n)\n",
    "best"
   ]
  },
  {
   "cell_type": "code",
   "execution_count": null,
   "id": "808f9069982fb4a9",
   "metadata": {},
   "outputs": [],
   "source": [
    "best.nr.sum()"
   ]
  },
  {
   "cell_type": "code",
   "execution_count": null,
   "id": "2ba4a2371e9e6dc0",
   "metadata": {},
   "outputs": [],
   "source": [
    "trumps_from_best = trumps[trumps['user'].isin(best.id)]\n",
    "trumps_from_best"
   ]
  },
  {
   "cell_type": "code",
   "execution_count": null,
   "id": "11f45a55873ba0d3",
   "metadata": {},
   "outputs": [],
   "source": [
    "value_counts = trumps_from_best[['FH', 'trump']].value_counts()\n",
    "value_counts"
   ]
  },
  {
   "cell_type": "code",
   "execution_count": null,
   "id": "a46b4a7f11eca34",
   "metadata": {},
   "outputs": [],
   "source": [
    "min_n = value_counts.min()\n",
    "min_n"
   ]
  },
  {
   "cell_type": "code",
   "execution_count": null,
   "id": "b4f5c6f08262e8f3",
   "metadata": {},
   "outputs": [],
   "source": [
    "random_state = 42"
   ]
  },
  {
   "cell_type": "code",
   "execution_count": null,
   "id": "9939cf1db4a58e76",
   "metadata": {},
   "outputs": [],
   "source": [
    "selected = []\n",
    "for fh in [1, 0]:\n",
    "    for trump in range(6+fh):\n",
    "        df = trumps_from_best.query(f\"FH == {fh} & trump == {trump}\").sample(min_n, random_state=42)\n",
    "        selected.append(df)\n",
    "    \n",
    "balanced = pd.concat(selected)\n",
    "balanced"
   ]
  },
  {
   "cell_type": "code",
   "execution_count": null,
   "id": "2eb169b2ebc66510",
   "metadata": {},
   "outputs": [],
   "source": [
    "len(balanced)"
   ]
  },
  {
   "cell_type": "code",
   "execution_count": null,
   "id": "612d84250fb86255",
   "metadata": {},
   "outputs": [],
   "source": [
    "balanced.to_csv(f\"./data/trump_top{top_n}_balanced.csv\")"
   ]
  },
  {
   "cell_type": "code",
   "execution_count": null,
   "id": "c19c488433004038",
   "metadata": {},
   "outputs": [],
   "source": []
  }
 ],
 "metadata": {
  "kernelspec": {
   "display_name": "DL4G",
   "language": "python",
   "name": "dl4g"
  },
  "language_info": {
   "codemirror_mode": {
    "name": "ipython",
    "version": 2
   },
   "file_extension": ".py",
   "mimetype": "text/x-python",
   "name": "python",
   "nbconvert_exporter": "python",
   "pygments_lexer": "ipython2",
   "version": "2.7.6"
  }
 },
 "nbformat": 4,
 "nbformat_minor": 5
}
